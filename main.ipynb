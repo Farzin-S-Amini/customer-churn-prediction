{
 "cells": [
  {
   "cell_type": "code",
   "execution_count": 1,
   "metadata": {},
   "outputs": [
    {
     "name": "stderr",
     "output_type": "stream",
     "text": [
      "/usr/lib/python3.5/importlib/_bootstrap.py:222: RuntimeWarning: numpy.dtype size changed, may indicate binary incompatibility. Expected 96, got 88\n",
      "  return f(*args, **kwds)\n",
      "/usr/lib/python3.5/importlib/_bootstrap.py:222: RuntimeWarning: numpy.dtype size changed, may indicate binary incompatibility. Expected 96, got 88\n",
      "  return f(*args, **kwds)\n",
      "/usr/lib/python3.5/importlib/_bootstrap.py:222: RuntimeWarning: numpy.dtype size changed, may indicate binary incompatibility. Expected 96, got 88\n",
      "  return f(*args, **kwds)\n"
     ]
    }
   ],
   "source": [
    "import numpy as np\n",
    "import pandas as pd\n",
    "import matplotlib.pyplot as plt\n",
    "import seaborn as sn\n",
    "%matplotlib inline"
   ]
  },
  {
   "cell_type": "code",
   "execution_count": 2,
   "metadata": {},
   "outputs": [],
   "source": [
    "data = pd.read_csv(\"data/WA_Fn-UseC_-Telco-Customer-Churn.csv\")"
   ]
  },
  {
   "cell_type": "code",
   "execution_count": 3,
   "metadata": {},
   "outputs": [
    {
     "data": {
      "text/plain": [
       "(7043, 21)"
      ]
     },
     "execution_count": 3,
     "metadata": {},
     "output_type": "execute_result"
    }
   ],
   "source": [
    "data.shape"
   ]
  },
  {
   "cell_type": "code",
   "execution_count": 4,
   "metadata": {},
   "outputs": [
    {
     "name": "stdout",
     "output_type": "stream",
     "text": [
      "<class 'pandas.core.frame.DataFrame'>\n",
      "RangeIndex: 7043 entries, 0 to 7042\n",
      "Data columns (total 21 columns):\n",
      "customerID          7043 non-null object\n",
      "gender              7043 non-null object\n",
      "SeniorCitizen       7043 non-null int64\n",
      "Partner             7043 non-null object\n",
      "Dependents          7043 non-null object\n",
      "tenure              7043 non-null int64\n",
      "PhoneService        7043 non-null object\n",
      "MultipleLines       7043 non-null object\n",
      "InternetService     7043 non-null object\n",
      "OnlineSecurity      7043 non-null object\n",
      "OnlineBackup        7043 non-null object\n",
      "DeviceProtection    7043 non-null object\n",
      "TechSupport         7043 non-null object\n",
      "StreamingTV         7043 non-null object\n",
      "StreamingMovies     7043 non-null object\n",
      "Contract            7043 non-null object\n",
      "PaperlessBilling    7043 non-null object\n",
      "PaymentMethod       7043 non-null object\n",
      "MonthlyCharges      7043 non-null float64\n",
      "TotalCharges        7043 non-null object\n",
      "Churn               7043 non-null object\n",
      "dtypes: float64(1), int64(2), object(18)\n",
      "memory usage: 1.1+ MB\n"
     ]
    }
   ],
   "source": [
    "data.info()"
   ]
  },
  {
   "cell_type": "code",
   "execution_count": 5,
   "metadata": {},
   "outputs": [
    {
     "data": {
      "text/plain": [
       "No                     2810\n",
       "Yes                    2707\n",
       "No internet service    1526\n",
       "Name: StreamingTV, dtype: int64"
      ]
     },
     "execution_count": 5,
     "metadata": {},
     "output_type": "execute_result"
    }
   ],
   "source": [
    "data.head()\n",
    "data.StreamingTV.value_counts()"
   ]
  },
  {
   "cell_type": "code",
   "execution_count": 6,
   "metadata": {},
   "outputs": [
    {
     "data": {
      "text/plain": [
       "<matplotlib.axes._subplots.AxesSubplot at 0x7f003cc71438>"
      ]
     },
     "execution_count": 6,
     "metadata": {},
     "output_type": "execute_result"
    },
    {
     "data": {
      "image/png": "[encoded data removed]",
      "text/plain": [
       "<Figure size 432x288 with 1 Axes>"
      ]
     },
     "metadata": {},
     "output_type": "display_data"
    }
   ],
   "source": [
    "sn.boxplot(data=data[\"MonthlyCharges\"])"
   ]
  },
  {
   "cell_type": "code",
   "execution_count": 7,
   "metadata": {},
   "outputs": [],
   "source": [
    "data[\"TotalCharges\"] = pd.to_numeric(data[\"TotalCharges\"], errors='coerce')"
   ]
  },
  {
   "cell_type": "code",
   "execution_count": 8,
   "metadata": {},
   "outputs": [
    {
     "data": {
      "text/plain": [
       "11"
      ]
     },
     "execution_count": 8,
     "metadata": {},
     "output_type": "execute_result"
    }
   ],
   "source": [
    "data[\"TotalCharges\"].isna().sum()"
   ]
  },
  {
   "cell_type": "code",
   "execution_count": 9,
   "metadata": {},
   "outputs": [
    {
     "data": {
      "text/plain": [
       "<matplotlib.axes._subplots.AxesSubplot at 0x7f003bfeeb70>"
      ]
     },
     "execution_count": 9,
     "metadata": {},
     "output_type": "execute_result"
    },
    {
     "data": {
      "image/png": "[encoded data removed]",
      "text/plain": [
       "<Figure size 432x288 with 1 Axes>"
      ]
     },
     "metadata": {},
     "output_type": "display_data"
    }
   ],
   "source": [
    "sn.boxplot(data=data[\"TotalCharges\"])"
   ]
  },
  {
   "cell_type": "code",
   "execution_count": 10,
   "metadata": {},
   "outputs": [
    {
     "data": {
      "text/plain": [
       "customerID           0\n",
       "gender               0\n",
       "SeniorCitizen        0\n",
       "Partner              0\n",
       "Dependents           0\n",
       "tenure               0\n",
       "PhoneService         0\n",
       "MultipleLines        0\n",
       "InternetService      0\n",
       "OnlineSecurity       0\n",
       "OnlineBackup         0\n",
       "DeviceProtection     0\n",
       "TechSupport          0\n",
       "StreamingTV          0\n",
       "StreamingMovies      0\n",
       "Contract             0\n",
       "PaperlessBilling     0\n",
       "PaymentMethod        0\n",
       "MonthlyCharges       0\n",
       "TotalCharges        11\n",
       "Churn                0\n",
       "dtype: int64"
      ]
     },
     "execution_count": 10,
     "metadata": {},
     "output_type": "execute_result"
    }
   ],
   "source": [
    "data.isnull().sum()"
   ]
  },
  {
   "cell_type": "code",
   "execution_count": 11,
   "metadata": {},
   "outputs": [],
   "source": [
    "data.dropna(subset=['TotalCharges'], inplace=True)"
   ]
  },
  {
   "cell_type": "code",
   "execution_count": 12,
   "metadata": {},
   "outputs": [
    {
     "name": "stderr",
     "output_type": "stream",
     "text": [
      "/usr/local/lib/python3.5/dist-packages/scipy/stats/stats.py:1713: FutureWarning: Using a non-tuple sequence for multidimensional indexing is deprecated; use `arr[tuple(seq)]` instead of `arr[seq]`. In the future this will be interpreted as an array index, `arr[np.array(seq)]`, which will result either in an error or a different result.\n",
      "  return np.add.reduce(sorted[indexer] * weights, axis=axis) / sumval\n"
     ]
    },
    {
     "data": {
      "text/plain": [
       "<matplotlib.axes._subplots.AxesSubplot at 0x7f003bfe5630>"
      ]
     },
     "execution_count": 12,
     "metadata": {},
     "output_type": "execute_result"
    },
    {
     "data": {
      "image/png": "[encoded data removed]",
      "text/plain": [
       "<Figure size 864x360 with 1 Axes>"
      ]
     },
     "metadata": {},
     "output_type": "display_data"
    }
   ],
   "source": [
    "plt.figure(figsize=(12,5))\n",
    "sn.distplot(data.MonthlyCharges)"
   ]
  },
  {
   "cell_type": "code",
   "execution_count": 13,
   "metadata": {},
   "outputs": [
    {
     "name": "stderr",
     "output_type": "stream",
     "text": [
      "/usr/local/lib/python3.5/dist-packages/scipy/stats/stats.py:1713: FutureWarning: Using a non-tuple sequence for multidimensional indexing is deprecated; use `arr[tuple(seq)]` instead of `arr[seq]`. In the future this will be interpreted as an array index, `arr[np.array(seq)]`, which will result either in an error or a different result.\n",
      "  return np.add.reduce(sorted[indexer] * weights, axis=axis) / sumval\n"
     ]
    },
    {
     "data": {
      "text/plain": [
       "<matplotlib.axes._subplots.AxesSubplot at 0x7f003cb75cc0>"
      ]
     },
     "execution_count": 13,
     "metadata": {},
     "output_type": "execute_result"
    },
    {
     "data": {
      "image/png": "[encoded data removed]",
      "text/plain": [
       "<Figure size 432x288 with 1 Axes>"
      ]
     },
     "metadata": {},
     "output_type": "display_data"
    }
   ],
   "source": [
    "sn.distplot(data.tenure)"
   ]
  },
  {
   "cell_type": "code",
   "execution_count": 14,
   "metadata": {},
   "outputs": [
    {
     "data": {
      "text/plain": [
       "count    7032.000000\n",
       "mean       32.421786\n",
       "std        24.545260\n",
       "min         1.000000\n",
       "25%         9.000000\n",
       "50%        29.000000\n",
       "75%        55.000000\n",
       "max        72.000000\n",
       "Name: tenure, dtype: float64"
      ]
     },
     "execution_count": 14,
     "metadata": {},
     "output_type": "execute_result"
    }
   ],
   "source": [
    "data.tenure.describe()"
   ]
  },
  {
   "cell_type": "code",
   "execution_count": 15,
   "metadata": {},
   "outputs": [
    {
     "name": "stderr",
     "output_type": "stream",
     "text": [
      "/usr/local/lib/python3.5/dist-packages/scipy/stats/stats.py:1713: FutureWarning: Using a non-tuple sequence for multidimensional indexing is deprecated; use `arr[tuple(seq)]` instead of `arr[seq]`. In the future this will be interpreted as an array index, `arr[np.array(seq)]`, which will result either in an error or a different result.\n",
      "  return np.add.reduce(sorted[indexer] * weights, axis=axis) / sumval\n"
     ]
    },
    {
     "data": {
      "text/plain": [
       "<matplotlib.axes._subplots.AxesSubplot at 0x7f003caf8710>"
      ]
     },
     "execution_count": 15,
     "metadata": {},
     "output_type": "execute_result"
    },
    {
     "data": {
      "image/png": "[encoded data removed]",
      "text/plain": [
       "<Figure size 432x288 with 1 Axes>"
      ]
     },
     "metadata": {},
     "output_type": "display_data"
    }
   ],
   "source": [
    "sn.distplot(data.tenure)"
   ]
  },
  {
   "cell_type": "code",
   "execution_count": 16,
   "metadata": {},
   "outputs": [],
   "source": [
    "one_hot_columns = ['gender', 'SeniorCitizen','Partner', 'Dependents', 'PhoneService', 'MultipleLines', \n",
    "                   'InternetService', 'OnlineSecurity', 'OnlineBackup', 'DeviceProtection', 'TechSupport',\n",
    "                   'StreamingTV', 'StreamingTV', 'StreamingMovies', 'Contract', 'PaperlessBilling',\n",
    "                   'PaymentMethod']"
   ]
  },
  {
   "cell_type": "code",
   "execution_count": 17,
   "metadata": {},
   "outputs": [],
   "source": [
    "data = pd.get_dummies(data, columns=one_hot_columns)"
   ]
  },
  {
   "cell_type": "code",
   "execution_count": 18,
   "metadata": {},
   "outputs": [
    {
     "data": {
      "text/html": [
       "<div>\n",
       "<style scoped>\n",
       "    .dataframe tbody tr th:only-of-type {\n",
       "        vertical-align: middle;\n",
       "    }\n",
       "\n",
       "    .dataframe tbody tr th {\n",
       "        vertical-align: top;\n",
       "    }\n",
       "\n",
       "    .dataframe thead th {\n",
       "        text-align: right;\n",
       "    }\n",
       "</style>\n",
       "<table border=\"1\" class=\"dataframe\">\n",
       "  <thead>\n",
       "    <tr style=\"text-align: right;\">\n",
       "      <th></th>\n",
       "      <th>tenure</th>\n",
       "      <th>MonthlyCharges</th>\n",
       "      <th>TotalCharges</th>\n",
       "      <th>gender_Female</th>\n",
       "      <th>gender_Male</th>\n",
       "      <th>SeniorCitizen_0</th>\n",
       "      <th>SeniorCitizen_1</th>\n",
       "      <th>Partner_No</th>\n",
       "      <th>Partner_Yes</th>\n",
       "      <th>Dependents_No</th>\n",
       "      <th>...</th>\n",
       "      <th>StreamingMovies_Yes</th>\n",
       "      <th>Contract_Month-to-month</th>\n",
       "      <th>Contract_One year</th>\n",
       "      <th>Contract_Two year</th>\n",
       "      <th>PaperlessBilling_No</th>\n",
       "      <th>PaperlessBilling_Yes</th>\n",
       "      <th>PaymentMethod_Bank transfer (automatic)</th>\n",
       "      <th>PaymentMethod_Credit card (automatic)</th>\n",
       "      <th>PaymentMethod_Electronic check</th>\n",
       "      <th>PaymentMethod_Mailed check</th>\n",
       "    </tr>\n",
       "  </thead>\n",
       "  <tbody>\n",
       "    <tr>\n",
       "      <th>count</th>\n",
       "      <td>7032.000000</td>\n",
       "      <td>7032.000000</td>\n",
       "      <td>7032.000000</td>\n",
       "      <td>7032.000000</td>\n",
       "      <td>7032.000000</td>\n",
       "      <td>7032.000000</td>\n",
       "      <td>7032.000000</td>\n",
       "      <td>7032.000000</td>\n",
       "      <td>7032.000000</td>\n",
       "      <td>7032.000000</td>\n",
       "      <td>...</td>\n",
       "      <td>7032.000000</td>\n",
       "      <td>7032.000000</td>\n",
       "      <td>7032.000000</td>\n",
       "      <td>7032.000000</td>\n",
       "      <td>7032.000000</td>\n",
       "      <td>7032.000000</td>\n",
       "      <td>7032.000000</td>\n",
       "      <td>7032.000000</td>\n",
       "      <td>7032.000000</td>\n",
       "      <td>7032.000000</td>\n",
       "    </tr>\n",
       "    <tr>\n",
       "      <th>mean</th>\n",
       "      <td>32.421786</td>\n",
       "      <td>64.798208</td>\n",
       "      <td>2283.300441</td>\n",
       "      <td>0.495307</td>\n",
       "      <td>0.504693</td>\n",
       "      <td>0.837600</td>\n",
       "      <td>0.162400</td>\n",
       "      <td>0.517491</td>\n",
       "      <td>0.482509</td>\n",
       "      <td>0.701507</td>\n",
       "      <td>...</td>\n",
       "      <td>0.388367</td>\n",
       "      <td>0.551052</td>\n",
       "      <td>0.209329</td>\n",
       "      <td>0.239619</td>\n",
       "      <td>0.407281</td>\n",
       "      <td>0.592719</td>\n",
       "      <td>0.219283</td>\n",
       "      <td>0.216297</td>\n",
       "      <td>0.336320</td>\n",
       "      <td>0.228100</td>\n",
       "    </tr>\n",
       "    <tr>\n",
       "      <th>std</th>\n",
       "      <td>24.545260</td>\n",
       "      <td>30.085974</td>\n",
       "      <td>2266.771362</td>\n",
       "      <td>0.500014</td>\n",
       "      <td>0.500014</td>\n",
       "      <td>0.368844</td>\n",
       "      <td>0.368844</td>\n",
       "      <td>0.499729</td>\n",
       "      <td>0.499729</td>\n",
       "      <td>0.457629</td>\n",
       "      <td>...</td>\n",
       "      <td>0.487414</td>\n",
       "      <td>0.497422</td>\n",
       "      <td>0.406858</td>\n",
       "      <td>0.426881</td>\n",
       "      <td>0.491363</td>\n",
       "      <td>0.491363</td>\n",
       "      <td>0.413790</td>\n",
       "      <td>0.411748</td>\n",
       "      <td>0.472483</td>\n",
       "      <td>0.419637</td>\n",
       "    </tr>\n",
       "    <tr>\n",
       "      <th>min</th>\n",
       "      <td>1.000000</td>\n",
       "      <td>18.250000</td>\n",
       "      <td>18.800000</td>\n",
       "      <td>0.000000</td>\n",
       "      <td>0.000000</td>\n",
       "      <td>0.000000</td>\n",
       "      <td>0.000000</td>\n",
       "      <td>0.000000</td>\n",
       "      <td>0.000000</td>\n",
       "      <td>0.000000</td>\n",
       "      <td>...</td>\n",
       "      <td>0.000000</td>\n",
       "      <td>0.000000</td>\n",
       "      <td>0.000000</td>\n",
       "      <td>0.000000</td>\n",
       "      <td>0.000000</td>\n",
       "      <td>0.000000</td>\n",
       "      <td>0.000000</td>\n",
       "      <td>0.000000</td>\n",
       "      <td>0.000000</td>\n",
       "      <td>0.000000</td>\n",
       "    </tr>\n",
       "    <tr>\n",
       "      <th>25%</th>\n",
       "      <td>9.000000</td>\n",
       "      <td>35.587500</td>\n",
       "      <td>401.450000</td>\n",
       "      <td>0.000000</td>\n",
       "      <td>0.000000</td>\n",
       "      <td>1.000000</td>\n",
       "      <td>0.000000</td>\n",
       "      <td>0.000000</td>\n",
       "      <td>0.000000</td>\n",
       "      <td>0.000000</td>\n",
       "      <td>...</td>\n",
       "      <td>0.000000</td>\n",
       "      <td>0.000000</td>\n",
       "      <td>0.000000</td>\n",
       "      <td>0.000000</td>\n",
       "      <td>0.000000</td>\n",
       "      <td>0.000000</td>\n",
       "      <td>0.000000</td>\n",
       "      <td>0.000000</td>\n",
       "      <td>0.000000</td>\n",
       "      <td>0.000000</td>\n",
       "    </tr>\n",
       "    <tr>\n",
       "      <th>50%</th>\n",
       "      <td>29.000000</td>\n",
       "      <td>70.350000</td>\n",
       "      <td>1397.475000</td>\n",
       "      <td>0.000000</td>\n",
       "      <td>1.000000</td>\n",
       "      <td>1.000000</td>\n",
       "      <td>0.000000</td>\n",
       "      <td>1.000000</td>\n",
       "      <td>0.000000</td>\n",
       "      <td>1.000000</td>\n",
       "      <td>...</td>\n",
       "      <td>0.000000</td>\n",
       "      <td>1.000000</td>\n",
       "      <td>0.000000</td>\n",
       "      <td>0.000000</td>\n",
       "      <td>0.000000</td>\n",
       "      <td>1.000000</td>\n",
       "      <td>0.000000</td>\n",
       "      <td>0.000000</td>\n",
       "      <td>0.000000</td>\n",
       "      <td>0.000000</td>\n",
       "    </tr>\n",
       "    <tr>\n",
       "      <th>75%</th>\n",
       "      <td>55.000000</td>\n",
       "      <td>89.862500</td>\n",
       "      <td>3794.737500</td>\n",
       "      <td>1.000000</td>\n",
       "      <td>1.000000</td>\n",
       "      <td>1.000000</td>\n",
       "      <td>0.000000</td>\n",
       "      <td>1.000000</td>\n",
       "      <td>1.000000</td>\n",
       "      <td>1.000000</td>\n",
       "      <td>...</td>\n",
       "      <td>1.000000</td>\n",
       "      <td>1.000000</td>\n",
       "      <td>0.000000</td>\n",
       "      <td>0.000000</td>\n",
       "      <td>1.000000</td>\n",
       "      <td>1.000000</td>\n",
       "      <td>0.000000</td>\n",
       "      <td>0.000000</td>\n",
       "      <td>1.000000</td>\n",
       "      <td>0.000000</td>\n",
       "    </tr>\n",
       "    <tr>\n",
       "      <th>max</th>\n",
       "      <td>72.000000</td>\n",
       "      <td>118.750000</td>\n",
       "      <td>8684.800000</td>\n",
       "      <td>1.000000</td>\n",
       "      <td>1.000000</td>\n",
       "      <td>1.000000</td>\n",
       "      <td>1.000000</td>\n",
       "      <td>1.000000</td>\n",
       "      <td>1.000000</td>\n",
       "      <td>1.000000</td>\n",
       "      <td>...</td>\n",
       "      <td>1.000000</td>\n",
       "      <td>1.000000</td>\n",
       "      <td>1.000000</td>\n",
       "      <td>1.000000</td>\n",
       "      <td>1.000000</td>\n",
       "      <td>1.000000</td>\n",
       "      <td>1.000000</td>\n",
       "      <td>1.000000</td>\n",
       "      <td>1.000000</td>\n",
       "      <td>1.000000</td>\n",
       "    </tr>\n",
       "  </tbody>\n",
       "</table>\n",
       "<p>8 rows × 49 columns</p>\n",
       "</div>"
      ],
      "text/plain": [
       "            tenure  MonthlyCharges  TotalCharges  gender_Female  gender_Male  \\\n",
       "count  7032.000000     7032.000000   7032.000000    7032.000000  7032.000000   \n",
       "mean     32.421786       64.798208   2283.300441       0.495307     0.504693   \n",
       "std      24.545260       30.085974   2266.771362       0.500014     0.500014   \n",
       "min       1.000000       18.250000     18.800000       0.000000     0.000000   \n",
       "25%       9.000000       35.587500    401.450000       0.000000     0.000000   \n",
       "50%      29.000000       70.350000   1397.475000       0.000000     1.000000   \n",
       "75%      55.000000       89.862500   3794.737500       1.000000     1.000000   \n",
       "max      72.000000      118.750000   8684.800000       1.000000     1.000000   \n",
       "\n",
       "       SeniorCitizen_0  SeniorCitizen_1   Partner_No  Partner_Yes  \\\n",
       "count      7032.000000      7032.000000  7032.000000  7032.000000   \n",
       "mean          0.837600         0.162400     0.517491     0.482509   \n",
       "std           0.368844         0.368844     0.499729     0.499729   \n",
       "min           0.000000         0.000000     0.000000     0.000000   \n",
       "25%           1.000000         0.000000     0.000000     0.000000   \n",
       "50%           1.000000         0.000000     1.000000     0.000000   \n",
       "75%           1.000000         0.000000     1.000000     1.000000   \n",
       "max           1.000000         1.000000     1.000000     1.000000   \n",
       "\n",
       "       Dependents_No             ...              StreamingMovies_Yes  \\\n",
       "count    7032.000000             ...                      7032.000000   \n",
       "mean        0.701507             ...                         0.388367   \n",
       "std         0.457629             ...                         0.487414   \n",
       "min         0.000000             ...                         0.000000   \n",
       "25%         0.000000             ...                         0.000000   \n",
       "50%         1.000000             ...                         0.000000   \n",
       "75%         1.000000             ...                         1.000000   \n",
       "max         1.000000             ...                         1.000000   \n",
       "\n",
       "       Contract_Month-to-month  Contract_One year  Contract_Two year  \\\n",
       "count              7032.000000        7032.000000        7032.000000   \n",
       "mean                  0.551052           0.209329           0.239619   \n",
       "std                   0.497422           0.406858           0.426881   \n",
       "min                   0.000000           0.000000           0.000000   \n",
       "25%                   0.000000           0.000000           0.000000   \n",
       "50%                   1.000000           0.000000           0.000000   \n",
       "75%                   1.000000           0.000000           0.000000   \n",
       "max                   1.000000           1.000000           1.000000   \n",
       "\n",
       "       PaperlessBilling_No  PaperlessBilling_Yes  \\\n",
       "count          7032.000000           7032.000000   \n",
       "mean              0.407281              0.592719   \n",
       "std               0.491363              0.491363   \n",
       "min               0.000000              0.000000   \n",
       "25%               0.000000              0.000000   \n",
       "50%               0.000000              1.000000   \n",
       "75%               1.000000              1.000000   \n",
       "max               1.000000              1.000000   \n",
       "\n",
       "       PaymentMethod_Bank transfer (automatic)  \\\n",
       "count                              7032.000000   \n",
       "mean                                  0.219283   \n",
       "std                                   0.413790   \n",
       "min                                   0.000000   \n",
       "25%                                   0.000000   \n",
       "50%                                   0.000000   \n",
       "75%                                   0.000000   \n",
       "max                                   1.000000   \n",
       "\n",
       "       PaymentMethod_Credit card (automatic)  PaymentMethod_Electronic check  \\\n",
       "count                            7032.000000                     7032.000000   \n",
       "mean                                0.216297                        0.336320   \n",
       "std                                 0.411748                        0.472483   \n",
       "min                                 0.000000                        0.000000   \n",
       "25%                                 0.000000                        0.000000   \n",
       "50%                                 0.000000                        0.000000   \n",
       "75%                                 0.000000                        1.000000   \n",
       "max                                 1.000000                        1.000000   \n",
       "\n",
       "       PaymentMethod_Mailed check  \n",
       "count                 7032.000000  \n",
       "mean                     0.228100  \n",
       "std                      0.419637  \n",
       "min                      0.000000  \n",
       "25%                      0.000000  \n",
       "50%                      0.000000  \n",
       "75%                      0.000000  \n",
       "max                      1.000000  \n",
       "\n",
       "[8 rows x 49 columns]"
      ]
     },
     "execution_count": 18,
     "metadata": {},
     "output_type": "execute_result"
    }
   ],
   "source": [
    "data.drop('customerID', axis =1, inplace=True)\n",
    "data.describe()"
   ]
  },
  {
   "cell_type": "code",
   "execution_count": 19,
   "metadata": {},
   "outputs": [
    {
     "name": "stderr",
     "output_type": "stream",
     "text": [
      "/usr/lib/python3.5/importlib/_bootstrap.py:222: RuntimeWarning: numpy.dtype size changed, may indicate binary incompatibility. Expected 96, got 88\n",
      "  return f(*args, **kwds)\n",
      "/usr/lib/python3.5/importlib/_bootstrap.py:222: RuntimeWarning: numpy.dtype size changed, may indicate binary incompatibility. Expected 96, got 88\n",
      "  return f(*args, **kwds)\n"
     ]
    }
   ],
   "source": [
    "from sklearn.model_selection import train_test_split"
   ]
  },
  {
   "cell_type": "code",
   "execution_count": 22,
   "metadata": {},
   "outputs": [],
   "source": [
    "X_train, X_test, y_train, y_test =  train_test_split(data.drop('Churn', axis=1), data['Churn'], test_size= 0.30)"
   ]
  },
  {
   "cell_type": "code",
   "execution_count": 23,
   "metadata": {},
   "outputs": [
    {
     "name": "stderr",
     "output_type": "stream",
     "text": [
      "/usr/lib/python3.5/importlib/_bootstrap.py:222: RuntimeWarning: numpy.dtype size changed, may indicate binary incompatibility. Expected 96, got 88\n",
      "  return f(*args, **kwds)\n"
     ]
    }
   ],
   "source": [
    "from sklearn.linear_model import LogisticRegression"
   ]
  },
  {
   "cell_type": "code",
   "execution_count": 24,
   "metadata": {},
   "outputs": [
    {
     "data": {
      "text/plain": [
       "LogisticRegression(C=1.0, class_weight=None, dual=False, fit_intercept=True,\n",
       "          intercept_scaling=1, max_iter=100, multi_class='ovr', n_jobs=1,\n",
       "          penalty='l2', random_state=None, solver='liblinear', tol=0.0001,\n",
       "          verbose=0, warm_start=False)"
      ]
     },
     "execution_count": 24,
     "metadata": {},
     "output_type": "execute_result"
    }
   ],
   "source": [
    "logmodel = LogisticRegression()\n",
    "logmodel.fit(X_train,y_train)"
   ]
  },
  {
   "cell_type": "code",
   "execution_count": 25,
   "metadata": {},
   "outputs": [],
   "source": [
    "predictions = logmodel.predict(X_test)"
   ]
  },
  {
   "cell_type": "code",
   "execution_count": 26,
   "metadata": {},
   "outputs": [],
   "source": [
    "from sklearn.metrics import classification_report"
   ]
  },
  {
   "cell_type": "code",
   "execution_count": 27,
   "metadata": {},
   "outputs": [
    {
     "name": "stdout",
     "output_type": "stream",
     "text": [
      "             precision    recall  f1-score   support\n",
      "\n",
      "         No       0.85      0.90      0.87      1552\n",
      "        Yes       0.67      0.55      0.60       558\n",
      "\n",
      "avg / total       0.80      0.81      0.80      2110\n",
      "\n"
     ]
    }
   ],
   "source": [
    "print(classification_report(y_test,predictions))"
   ]
  },
  {
   "cell_type": "code",
   "execution_count": 28,
   "metadata": {},
   "outputs": [
    {
     "name": "stderr",
     "output_type": "stream",
     "text": [
      "/usr/lib/python3.5/importlib/_bootstrap.py:222: RuntimeWarning: numpy.dtype size changed, may indicate binary incompatibility. Expected 96, got 88\n",
      "  return f(*args, **kwds)\n"
     ]
    }
   ],
   "source": [
    "from sklearn.tree import DecisionTreeClassifier\n",
    "dtree = DecisionTreeClassifier()"
   ]
  },
  {
   "cell_type": "code",
   "execution_count": 29,
   "metadata": {},
   "outputs": [
    {
     "data": {
      "text/plain": [
       "DecisionTreeClassifier(class_weight=None, criterion='gini', max_depth=None,\n",
       "            max_features=None, max_leaf_nodes=None,\n",
       "            min_impurity_decrease=0.0, min_impurity_split=None,\n",
       "            min_samples_leaf=1, min_samples_split=2,\n",
       "            min_weight_fraction_leaf=0.0, presort=False, random_state=None,\n",
       "            splitter='best')"
      ]
     },
     "execution_count": 29,
     "metadata": {},
     "output_type": "execute_result"
    }
   ],
   "source": [
    "dtree.fit(X_train,y_train)"
   ]
  },
  {
   "cell_type": "code",
   "execution_count": 30,
   "metadata": {},
   "outputs": [],
   "source": [
    "predictions = dtree.predict(X_test)"
   ]
  },
  {
   "cell_type": "code",
   "execution_count": 31,
   "metadata": {},
   "outputs": [
    {
     "name": "stdout",
     "output_type": "stream",
     "text": [
      "             precision    recall  f1-score   support\n",
      "\n",
      "         No       0.83      0.81      0.82      1552\n",
      "        Yes       0.50      0.54      0.52       558\n",
      "\n",
      "avg / total       0.74      0.74      0.74      2110\n",
      "\n"
     ]
    }
   ],
   "source": [
    "print(classification_report(y_test,predictions))"
   ]
  },
  {
   "cell_type": "code",
   "execution_count": 32,
   "metadata": {},
   "outputs": [
    {
     "name": "stderr",
     "output_type": "stream",
     "text": [
      "/usr/local/lib/python3.5/dist-packages/sklearn/ensemble/weight_boosting.py:29: DeprecationWarning: numpy.core.umath_tests is an internal NumPy module and should not be imported. It will be removed in a future NumPy release.\n",
      "  from numpy.core.umath_tests import inner1d\n",
      "/usr/lib/python3.5/importlib/_bootstrap.py:222: RuntimeWarning: numpy.dtype size changed, may indicate binary incompatibility. Expected 96, got 88\n",
      "  return f(*args, **kwds)\n"
     ]
    },
    {
     "data": {
      "text/plain": [
       "RandomForestClassifier(bootstrap=True, class_weight=None, criterion='gini',\n",
       "            max_depth=None, max_features='auto', max_leaf_nodes=None,\n",
       "            min_impurity_decrease=0.0, min_impurity_split=None,\n",
       "            min_samples_leaf=1, min_samples_split=2,\n",
       "            min_weight_fraction_leaf=0.0, n_estimators=100, n_jobs=1,\n",
       "            oob_score=False, random_state=None, verbose=0,\n",
       "            warm_start=False)"
      ]
     },
     "execution_count": 32,
     "metadata": {},
     "output_type": "execute_result"
    }
   ],
   "source": [
    "from sklearn.ensemble import RandomForestClassifier\n",
    "rfc = RandomForestClassifier(n_estimators=100)\n",
    "rfc.fit(X_train, y_train)"
   ]
  },
  {
   "cell_type": "code",
   "execution_count": 33,
   "metadata": {},
   "outputs": [],
   "source": [
    "rfc_pred = rfc.predict(X_test)"
   ]
  },
  {
   "cell_type": "code",
   "execution_count": 34,
   "metadata": {},
   "outputs": [
    {
     "name": "stdout",
     "output_type": "stream",
     "text": [
      "             precision    recall  f1-score   support\n",
      "\n",
      "         No       0.83      0.91      0.87      1552\n",
      "        Yes       0.65      0.48      0.55       558\n",
      "\n",
      "avg / total       0.78      0.79      0.78      2110\n",
      "\n"
     ]
    }
   ],
   "source": [
    "print(classification_report(y_test,rfc_pred))"
   ]
  },
  {
   "cell_type": "code",
   "execution_count": 35,
   "metadata": {},
   "outputs": [],
   "source": [
    "from sklearn.svm import SVC"
   ]
  },
  {
   "cell_type": "code",
   "execution_count": 36,
   "metadata": {},
   "outputs": [],
   "source": [
    "model = SVC()"
   ]
  },
  {
   "cell_type": "code",
   "execution_count": 37,
   "metadata": {},
   "outputs": [
    {
     "data": {
      "text/plain": [
       "SVC(C=1.0, cache_size=200, class_weight=None, coef0=0.0,\n",
       "  decision_function_shape='ovr', degree=3, gamma='auto', kernel='rbf',\n",
       "  max_iter=-1, probability=False, random_state=None, shrinking=True,\n",
       "  tol=0.001, verbose=False)"
      ]
     },
     "execution_count": 37,
     "metadata": {},
     "output_type": "execute_result"
    }
   ],
   "source": [
    "model.fit(X_train,y_train)"
   ]
  },
  {
   "cell_type": "code",
   "execution_count": 44,
   "metadata": {},
   "outputs": [],
   "source": [
    "predictions = model.predict(X_test)"
   ]
  },
  {
   "cell_type": "code",
   "execution_count": 45,
   "metadata": {},
   "outputs": [
    {
     "name": "stdout",
     "output_type": "stream",
     "text": [
      "             precision    recall  f1-score   support\n",
      "\n",
      "         No       0.79      0.95      0.86      1552\n",
      "        Yes       0.68      0.31      0.42       558\n",
      "\n",
      "avg / total       0.76      0.78      0.75      2110\n",
      "\n"
     ]
    }
   ],
   "source": [
    "print(classification_report(y_test,predictions))"
   ]
  },
  {
   "cell_type": "code",
   "execution_count": 40,
   "metadata": {},
   "outputs": [],
   "source": [
    "param_grid = {'C': [0.1,1, 10, 100, 1000], 'gamma': [1,0.1,0.01,0.001,0.0001], 'kernel': ['rbf']} "
   ]
  },
  {
   "cell_type": "code",
   "execution_count": 41,
   "metadata": {},
   "outputs": [],
   "source": [
    "from sklearn.model_selection import GridSearchCV"
   ]
  },
  {
   "cell_type": "code",
   "execution_count": 42,
   "metadata": {},
   "outputs": [],
   "source": [
    "grid = GridSearchCV(SVC(),param_grid,refit=True,verbose=3)"
   ]
  },
  {
   "cell_type": "code",
   "execution_count": 43,
   "metadata": {},
   "outputs": [
    {
     "name": "stdout",
     "output_type": "stream",
     "text": [
      "Fitting 3 folds for each of 25 candidates, totalling 75 fits\n",
      "[CV] kernel=rbf, C=0.1, gamma=1 ......................................\n",
      "[CV]  kernel=rbf, C=0.1, gamma=1, score=0.7336989640463132, total=   1.4s\n",
      "[CV] kernel=rbf, C=0.1, gamma=1 ......................................\n"
     ]
    },
    {
     "name": "stderr",
     "output_type": "stream",
     "text": [
      "[Parallel(n_jobs=1)]: Done   1 out of   1 | elapsed:    2.3s remaining:    0.0s\n"
     ]
    },
    {
     "name": "stdout",
     "output_type": "stream",
     "text": [
      "[CV]  kernel=rbf, C=0.1, gamma=1, score=0.7336989640463132, total=   1.6s\n",
      "[CV] kernel=rbf, C=0.1, gamma=1 ......................................\n"
     ]
    },
    {
     "name": "stderr",
     "output_type": "stream",
     "text": [
      "[Parallel(n_jobs=1)]: Done   2 out of   2 | elapsed:    4.8s remaining:    0.0s\n"
     ]
    },
    {
     "name": "stdout",
     "output_type": "stream",
     "text": [
      "[CV]  kernel=rbf, C=0.1, gamma=1, score=0.7335365853658536, total=   1.6s\n",
      "[CV] kernel=rbf, C=0.1, gamma=0.1 ....................................\n",
      "[CV]  kernel=rbf, C=0.1, gamma=0.1, score=0.7464960390006093, total=   1.4s\n",
      "[CV] kernel=rbf, C=0.1, gamma=0.1 ....................................\n",
      "[CV]  kernel=rbf, C=0.1, gamma=0.1, score=0.7452772699573431, total=   1.4s\n",
      "[CV] kernel=rbf, C=0.1, gamma=0.1 ....................................\n",
      "[CV]  kernel=rbf, C=0.1, gamma=0.1, score=0.7414634146341463, total=   1.4s\n",
      "[CV] kernel=rbf, C=0.1, gamma=0.01 ...................................\n",
      "[CV]  kernel=rbf, C=0.1, gamma=0.01, score=0.7538086532602072, total=   1.4s\n",
      "[CV] kernel=rbf, C=0.1, gamma=0.01 ...................................\n",
      "[CV]  kernel=rbf, C=0.1, gamma=0.01, score=0.7659963436928702, total=   1.3s\n",
      "[CV] kernel=rbf, C=0.1, gamma=0.01 ...................................\n",
      "[CV]  kernel=rbf, C=0.1, gamma=0.01, score=0.7524390243902439, total=   1.3s\n",
      "[CV] kernel=rbf, C=0.1, gamma=0.001 ..................................\n",
      "[CV]  kernel=rbf, C=0.1, gamma=0.001, score=0.7592931139549055, total=   1.1s\n",
      "[CV] kernel=rbf, C=0.1, gamma=0.001 ..................................\n",
      "[CV]  kernel=rbf, C=0.1, gamma=0.001, score=0.7690432663010359, total=   1.1s\n",
      "[CV] kernel=rbf, C=0.1, gamma=0.001 ..................................\n",
      "[CV]  kernel=rbf, C=0.1, gamma=0.001, score=0.7536585365853659, total=   1.1s\n",
      "[CV] kernel=rbf, C=0.1, gamma=0.0001 .................................\n",
      "[CV]  kernel=rbf, C=0.1, gamma=0.0001, score=0.7592931139549055, total=   1.3s\n",
      "[CV] kernel=rbf, C=0.1, gamma=0.0001 .................................\n",
      "[CV]  kernel=rbf, C=0.1, gamma=0.0001, score=0.7696526508226691, total=   1.1s\n",
      "[CV] kernel=rbf, C=0.1, gamma=0.0001 .................................\n",
      "[CV]  kernel=rbf, C=0.1, gamma=0.0001, score=0.7548780487804878, total=   1.2s\n",
      "[CV] kernel=rbf, C=1, gamma=1 ........................................\n",
      "[CV]  kernel=rbf, C=1, gamma=1, score=0.7355271176112127, total=   1.6s\n",
      "[CV] kernel=rbf, C=1, gamma=1 ........................................\n",
      "[CV]  kernel=rbf, C=1, gamma=1, score=0.7416209628275442, total=   1.5s\n",
      "[CV] kernel=rbf, C=1, gamma=1 ........................................\n",
      "[CV]  kernel=rbf, C=1, gamma=1, score=0.7384146341463415, total=   1.4s\n",
      "[CV] kernel=rbf, C=1, gamma=0.1 ......................................\n",
      "[CV]  kernel=rbf, C=1, gamma=0.1, score=0.7525898842169408, total=   1.5s\n",
      "[CV] kernel=rbf, C=1, gamma=0.1 ......................................\n",
      "[CV]  kernel=rbf, C=1, gamma=0.1, score=0.7605118829981719, total=   1.5s\n",
      "[CV] kernel=rbf, C=1, gamma=0.1 ......................................\n",
      "[CV]  kernel=rbf, C=1, gamma=0.1, score=0.7530487804878049, total=   1.5s\n",
      "[CV] kernel=rbf, C=1, gamma=0.01 .....................................\n",
      "[CV]  kernel=rbf, C=1, gamma=0.01, score=0.7550274223034735, total=   1.5s\n",
      "[CV] kernel=rbf, C=1, gamma=0.01 .....................................\n",
      "[CV]  kernel=rbf, C=1, gamma=0.01, score=0.7635588056063376, total=   1.5s\n",
      "[CV] kernel=rbf, C=1, gamma=0.01 .....................................\n",
      "[CV]  kernel=rbf, C=1, gamma=0.01, score=0.7560975609756098, total=   1.4s\n",
      "[CV] kernel=rbf, C=1, gamma=0.001 ....................................\n",
      "[CV]  kernel=rbf, C=1, gamma=0.001, score=0.7641681901279708, total=   1.0s\n",
      "[CV] kernel=rbf, C=1, gamma=0.001 ....................................\n",
      "[CV]  kernel=rbf, C=1, gamma=0.001, score=0.7684338817794027, total=   1.3s\n",
      "[CV] kernel=rbf, C=1, gamma=0.001 ....................................\n",
      "[CV]  kernel=rbf, C=1, gamma=0.001, score=0.7695121951219512, total=   1.2s\n",
      "[CV] kernel=rbf, C=1, gamma=0.0001 ...................................\n",
      "[CV]  kernel=rbf, C=1, gamma=0.0001, score=0.7720901889092017, total=   1.2s\n",
      "[CV] kernel=rbf, C=1, gamma=0.0001 ...................................\n",
      "[CV]  kernel=rbf, C=1, gamma=0.0001, score=0.7763558805606338, total=   1.3s\n",
      "[CV] kernel=rbf, C=1, gamma=0.0001 ...................................\n",
      "[CV]  kernel=rbf, C=1, gamma=0.0001, score=0.7695121951219512, total=   1.2s\n",
      "[CV] kernel=rbf, C=10, gamma=1 .......................................\n",
      "[CV]  kernel=rbf, C=10, gamma=1, score=0.7361365021328459, total=   1.5s\n",
      "[CV] kernel=rbf, C=10, gamma=1 .......................................\n",
      "[CV]  kernel=rbf, C=10, gamma=1, score=0.7416209628275442, total=   1.6s\n",
      "[CV] kernel=rbf, C=10, gamma=1 .......................................\n",
      "[CV]  kernel=rbf, C=10, gamma=1, score=0.7390243902439024, total=   1.8s\n",
      "[CV] kernel=rbf, C=10, gamma=0.1 .....................................\n",
      "[CV]  kernel=rbf, C=10, gamma=0.1, score=0.7550274223034735, total=   1.7s\n",
      "[CV] kernel=rbf, C=10, gamma=0.1 .....................................\n",
      "[CV]  kernel=rbf, C=10, gamma=0.1, score=0.7580743449116393, total=   1.7s\n",
      "[CV] kernel=rbf, C=10, gamma=0.1 .....................................\n",
      "[CV]  kernel=rbf, C=10, gamma=0.1, score=0.749390243902439, total=   2.0s\n",
      "[CV] kernel=rbf, C=10, gamma=0.01 ....................................\n",
      "[CV]  kernel=rbf, C=10, gamma=0.01, score=0.7343083485679464, total=   1.5s\n",
      "[CV] kernel=rbf, C=10, gamma=0.01 ....................................\n",
      "[CV]  kernel=rbf, C=10, gamma=0.01, score=0.7318708104814138, total=   1.5s\n",
      "[CV] kernel=rbf, C=10, gamma=0.01 ....................................\n",
      "[CV]  kernel=rbf, C=10, gamma=0.01, score=0.7353658536585366, total=   1.7s\n",
      "[CV] kernel=rbf, C=10, gamma=0.001 ...................................\n",
      "[CV]  kernel=rbf, C=10, gamma=0.001, score=0.741011578305911, total=   1.0s\n",
      "[CV] kernel=rbf, C=10, gamma=0.001 ...................................\n",
      "[CV]  kernel=rbf, C=10, gamma=0.001, score=0.7349177330895795, total=   1.1s\n",
      "[CV] kernel=rbf, C=10, gamma=0.001 ...................................\n",
      "[CV]  kernel=rbf, C=10, gamma=0.001, score=0.7567073170731707, total=   1.0s\n",
      "[CV] kernel=rbf, C=10, gamma=0.0001 ..................................\n",
      "[CV]  kernel=rbf, C=10, gamma=0.0001, score=0.7708714198659354, total=   1.1s\n",
      "[CV] kernel=rbf, C=10, gamma=0.0001 ..................................\n",
      "[CV]  kernel=rbf, C=10, gamma=0.0001, score=0.7794028031687995, total=   1.1s\n",
      "[CV] kernel=rbf, C=10, gamma=0.0001 ..................................\n",
      "[CV]  kernel=rbf, C=10, gamma=0.0001, score=0.7780487804878049, total=   1.1s\n",
      "[CV] kernel=rbf, C=100, gamma=1 ......................................\n",
      "[CV]  kernel=rbf, C=100, gamma=1, score=0.7349177330895795, total=   1.5s\n",
      "[CV] kernel=rbf, C=100, gamma=1 ......................................\n",
      "[CV]  kernel=rbf, C=100, gamma=1, score=0.7428397318708104, total=   1.5s\n",
      "[CV] kernel=rbf, C=100, gamma=1 ......................................\n",
      "[CV]  kernel=rbf, C=100, gamma=1, score=0.7402439024390244, total=   1.5s\n",
      "[CV] kernel=rbf, C=100, gamma=0.1 ....................................\n",
      "[CV]  kernel=rbf, C=100, gamma=0.1, score=0.7525898842169408, total=   1.6s\n",
      "[CV] kernel=rbf, C=100, gamma=0.1 ....................................\n",
      "[CV]  kernel=rbf, C=100, gamma=0.1, score=0.7592931139549055, total=   1.7s\n",
      "[CV] kernel=rbf, C=100, gamma=0.1 ....................................\n",
      "[CV]  kernel=rbf, C=100, gamma=0.1, score=0.7475609756097561, total=   1.6s\n",
      "[CV] kernel=rbf, C=100, gamma=0.01 ...................................\n",
      "[CV]  kernel=rbf, C=100, gamma=0.01, score=0.7367458866544789, total=   1.8s\n",
      "[CV] kernel=rbf, C=100, gamma=0.01 ...................................\n",
      "[CV]  kernel=rbf, C=100, gamma=0.01, score=0.7233394271785497, total=   1.9s\n",
      "[CV] kernel=rbf, C=100, gamma=0.01 ...................................\n",
      "[CV]  kernel=rbf, C=100, gamma=0.01, score=0.7341463414634146, total=   1.8s\n",
      "[CV] kernel=rbf, C=100, gamma=0.001 ..................................\n",
      "[CV]  kernel=rbf, C=100, gamma=0.001, score=0.7282145033516149, total=   1.4s\n",
      "[CV] kernel=rbf, C=100, gamma=0.001 ..................................\n",
      "[CV]  kernel=rbf, C=100, gamma=0.001, score=0.7178549664838513, total=   1.5s\n",
      "[CV] kernel=rbf, C=100, gamma=0.001 ..................................\n",
      "[CV]  kernel=rbf, C=100, gamma=0.001, score=0.7341463414634146, total=   1.4s\n",
      "[CV] kernel=rbf, C=100, gamma=0.0001 .................................\n",
      "[CV]  kernel=rbf, C=100, gamma=0.0001, score=0.7763558805606338, total=   1.6s\n",
      "[CV] kernel=rbf, C=100, gamma=0.0001 .................................\n"
     ]
    },
    {
     "name": "stdout",
     "output_type": "stream",
     "text": [
      "[CV]  kernel=rbf, C=100, gamma=0.0001, score=0.7751371115173674, total=   1.6s\n",
      "[CV] kernel=rbf, C=100, gamma=0.0001 .................................\n",
      "[CV]  kernel=rbf, C=100, gamma=0.0001, score=0.7798780487804878, total=   1.6s\n",
      "[CV] kernel=rbf, C=1000, gamma=1 .....................................\n",
      "[CV]  kernel=rbf, C=1000, gamma=1, score=0.7336989640463132, total=   1.5s\n",
      "[CV] kernel=rbf, C=1000, gamma=1 .....................................\n",
      "[CV]  kernel=rbf, C=1000, gamma=1, score=0.7428397318708104, total=   1.8s\n",
      "[CV] kernel=rbf, C=1000, gamma=1 .....................................\n",
      "[CV]  kernel=rbf, C=1000, gamma=1, score=0.7402439024390244, total=   1.5s\n",
      "[CV] kernel=rbf, C=1000, gamma=0.1 ...................................\n",
      "[CV]  kernel=rbf, C=1000, gamma=0.1, score=0.7538086532602072, total=   1.7s\n",
      "[CV] kernel=rbf, C=1000, gamma=0.1 ...................................\n",
      "[CV]  kernel=rbf, C=1000, gamma=0.1, score=0.7599024984765387, total=   1.7s\n",
      "[CV] kernel=rbf, C=1000, gamma=0.1 ...................................\n",
      "[CV]  kernel=rbf, C=1000, gamma=0.1, score=0.7475609756097561, total=   2.0s\n",
      "[CV] kernel=rbf, C=1000, gamma=0.01 ..................................\n",
      "[CV]  kernel=rbf, C=1000, gamma=0.01, score=0.7343083485679464, total=   2.0s\n",
      "[CV] kernel=rbf, C=1000, gamma=0.01 ..................................\n",
      "[CV]  kernel=rbf, C=1000, gamma=0.01, score=0.720292504570384, total=   2.2s\n",
      "[CV] kernel=rbf, C=1000, gamma=0.01 ..................................\n",
      "[CV]  kernel=rbf, C=1000, gamma=0.01, score=0.7310975609756097, total=   2.3s\n",
      "[CV] kernel=rbf, C=1000, gamma=0.001 .................................\n",
      "[CV]  kernel=rbf, C=1000, gamma=0.001, score=0.7282145033516149, total=   2.2s\n",
      "[CV] kernel=rbf, C=1000, gamma=0.001 .................................\n",
      "[CV]  kernel=rbf, C=1000, gamma=0.001, score=0.7105423522242535, total=   2.3s\n",
      "[CV] kernel=rbf, C=1000, gamma=0.001 .................................\n",
      "[CV]  kernel=rbf, C=1000, gamma=0.001, score=0.7335365853658536, total=   2.2s\n",
      "[CV] kernel=rbf, C=1000, gamma=0.0001 ................................\n",
      "[CV]  kernel=rbf, C=1000, gamma=0.0001, score=0.7617306520414382, total=   4.2s\n",
      "[CV] kernel=rbf, C=1000, gamma=0.0001 ................................\n",
      "[CV]  kernel=rbf, C=1000, gamma=0.0001, score=0.7477148080438757, total=   4.5s\n",
      "[CV] kernel=rbf, C=1000, gamma=0.0001 ................................\n",
      "[CV]  kernel=rbf, C=1000, gamma=0.0001, score=0.7609756097560976, total=   4.1s\n"
     ]
    },
    {
     "name": "stderr",
     "output_type": "stream",
     "text": [
      "[Parallel(n_jobs=1)]: Done  75 out of  75 | elapsed:  2.9min finished\n"
     ]
    },
    {
     "data": {
      "text/plain": [
       "GridSearchCV(cv=None, error_score='raise',\n",
       "       estimator=SVC(C=1.0, cache_size=200, class_weight=None, coef0=0.0,\n",
       "  decision_function_shape='ovr', degree=3, gamma='auto', kernel='rbf',\n",
       "  max_iter=-1, probability=False, random_state=None, shrinking=True,\n",
       "  tol=0.001, verbose=False),\n",
       "       fit_params=None, iid=True, n_jobs=1,\n",
       "       param_grid={'kernel': ['rbf'], 'C': [0.1, 1, 10, 100, 1000], 'gamma': [1, 0.1, 0.01, 0.001, 0.0001]},\n",
       "       pre_dispatch='2*n_jobs', refit=True, return_train_score='warn',\n",
       "       scoring=None, verbose=3)"
      ]
     },
     "execution_count": 43,
     "metadata": {},
     "output_type": "execute_result"
    }
   ],
   "source": [
    "grid.fit(X_train,y_train)"
   ]
  },
  {
   "cell_type": "code",
   "execution_count": 46,
   "metadata": {},
   "outputs": [
    {
     "data": {
      "text/plain": [
       "{'C': 100, 'gamma': 0.0001, 'kernel': 'rbf'}"
      ]
     },
     "execution_count": 46,
     "metadata": {},
     "output_type": "execute_result"
    }
   ],
   "source": [
    "grid.best_params_"
   ]
  },
  {
   "cell_type": "code",
   "execution_count": 47,
   "metadata": {},
   "outputs": [
    {
     "data": {
      "text/plain": [
       "SVC(C=100, cache_size=200, class_weight=None, coef0=0.0,\n",
       "  decision_function_shape='ovr', degree=3, gamma=0.0001, kernel='rbf',\n",
       "  max_iter=-1, probability=False, random_state=None, shrinking=True,\n",
       "  tol=0.001, verbose=False)"
      ]
     },
     "execution_count": 47,
     "metadata": {},
     "output_type": "execute_result"
    }
   ],
   "source": [
    "grid.best_estimator_"
   ]
  },
  {
   "cell_type": "code",
   "execution_count": 48,
   "metadata": {},
   "outputs": [],
   "source": [
    "grid_predictions = grid.predict(X_test)"
   ]
  },
  {
   "cell_type": "code",
   "execution_count": 49,
   "metadata": {},
   "outputs": [
    {
     "name": "stdout",
     "output_type": "stream",
     "text": [
      "             precision    recall  f1-score   support\n",
      "\n",
      "         No       0.83      0.91      0.87      1552\n",
      "        Yes       0.66      0.47      0.55       558\n",
      "\n",
      "avg / total       0.78      0.80      0.78      2110\n",
      "\n"
     ]
    }
   ],
   "source": [
    "print(classification_report(y_test,grid_predictions))"
   ]
  },
  {
   "cell_type": "code",
   "execution_count": null,
   "metadata": {},
   "outputs": [],
   "source": []
  }
 ],
 "metadata": {
  "kernelspec": {
   "display_name": "Python 3",
   "language": "python",
   "name": "python3"
  },
  "language_info": {
   "codemirror_mode": {
    "name": "ipython",
    "version": 3
   },
   "file_extension": ".py",
   "mimetype": "text/x-python",
   "name": "python",
   "nbconvert_exporter": "python",
   "pygments_lexer": "ipython3",
   "version": "3.5.2"
  }
 },
 "nbformat": 4,
 "nbformat_minor": 2
}
